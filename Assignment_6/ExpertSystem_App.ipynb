{
 "cells": [
  {
   "cell_type": "markdown",
   "id": "380bbebd",
   "metadata": {},
   "source": [
    "Metabolic syndromes have been surging due to genetic abnormalities and the fast lifestyle that we have in recent times. Some traditional thinkers started blaming the mothers for the metabolic anomaly in their children. You being a Gen Z, want to prove these people wrong by using the power of machine learning and data analysis. Your college club, being keen on Machine learning, did a lot of research in this field and found out that with the correct amount of data, we can gain an early insight in detecting what kind of metabolic syndrome a person can have. Your team leader Jignesh being a perfectionist wants the accuracy to be quintessential. He gives you a dataset in which there are various factors that can cause metabolic syndromes. He assigns you a task to build and train a model that can predict what kind of metabolic syndrome a person might have."
   ]
  },
  {
   "cell_type": "code",
   "execution_count": 21,
   "id": "ac40516d",
   "metadata": {},
   "outputs": [],
   "source": [
    "import warnings\n",
    "warnings.filterwarnings('ignore')"
   ]
  },
  {
   "cell_type": "code",
   "execution_count": 8,
   "id": "5b1b42e2",
   "metadata": {},
   "outputs": [],
   "source": [
    "import pandas as pd\n",
    "import numpy as np\n",
    "import matplotlib.pyplot as plt\n",
    "import seaborn as sns"
   ]
  },
  {
   "cell_type": "code",
   "execution_count": 11,
   "id": "fa3058c5",
   "metadata": {},
   "outputs": [],
   "source": [
    "import pickle"
   ]
  },
  {
   "cell_type": "code",
   "execution_count": 12,
   "id": "b2d62b81",
   "metadata": {},
   "outputs": [
    {
     "data": {
      "text/plain": [
       "StackingClassifier(estimators=[('knn', KNeighborsClassifier(n_neighbors=3)),\n",
       "                               ('svm_rbf',\n",
       "                                SVC(C=50, degree=1, gamma='auto',\n",
       "                                    probability=True)),\n",
       "                               ('dt', DecisionTreeClassifier(max_depth=5)),\n",
       "                               ('rf',\n",
       "                                RandomForestClassifier(max_depth=10,\n",
       "                                                       min_samples_leaf=0.005,\n",
       "                                                       min_samples_split=0.005,\n",
       "                                                       n_estimators=500,\n",
       "                                                       n_jobs=-1,\n",
       "                                                       random_state=1000)),\n",
       "                               ('mlp', MLPClassifier(alpha=1, max_iter=1000))],\n",
       "                   final_estimator=LogisticRegression())"
      ]
     },
     "execution_count": 12,
     "metadata": {},
     "output_type": "execute_result"
    }
   ],
   "source": [
    "loaded_model = pickle.load(open(\"model\", 'rb'))\n",
    "loaded_model"
   ]
  },
  {
   "cell_type": "code",
   "execution_count": 24,
   "id": "3b7c8028",
   "metadata": {},
   "outputs": [],
   "source": [
    "def take_input():\n",
    "    I = []\n",
    "    I.append(int(input(\"Enter age: \")))\n",
    "    I.append(int(input(\"Gene A present ? Yes[1]/No[0]: \")))\n",
    "    I.append(int(input(\"Gene B present ? Yes[1]/No[0]: \")))\n",
    "    I.append(int(input(\"Gene C present ? Yes[1]/No[0]: \")))\n",
    "    I.append(int(input(\"Gene D present ? Yes[1]/No[0]: \")))\n",
    "    I.append(float(input(\"Per mcL quantity of blood cells: \")))\n",
    "    I.append(int(input(\"Breathing Rate ? Normal[0]/Tachypnea[1]: \")))\n",
    "    I.append(int(input(\"Pulse Rate ? Normal[0]/Tachycardia[1]: \")))\n",
    "    I.append(int(input(\"Diagnostic Testing ? Positive[1]/Negative[0]: \")))\n",
    "    I.append(int(input(\"Carrier Testing ? Positive[1]/Negative[0]: \")))\n",
    "    I.append(int(input(\"Enzyme Test ? Positive[1]/Negative[0]: \")))\n",
    "    I.append(int(input(\"Insulin Test ? Positive[1]/Negative[0]: \")))\n",
    "    I.append(int(input(\"Thyroid Test ? Positive[1]/Negative[0]: \")))\n",
    "    I.append(int(input(\"Gastrin Defect ? Yes[1]/No[0]: \")))\n",
    "    I.append(int(input(\"Neural Anomaly ? Yes[1]/No[0]: \")))\n",
    "    I.append(int(input(\"Assistance needed in fertility ? Yes[1]/No[0]: \")))\n",
    "    I.append(int(input(\"Previous maternal pregnancy record ? Yes[1]/No[0]: \")))\n",
    "    I.append(int(input(\"Maternal Abortion count: \")))\n",
    "    I.append(float(input(\"Per mcL quantity of white blood cells: \")))\n",
    "    I.append(int(input(\"High triglyceride level ? Yes[1]/No[0]: \")))\n",
    "    I.append(int(input(\"Reduced HDL ? Yes[1]/No[0]: \")))\n",
    "    I.append(int(input(\"High BP ? Yes[1]/No[0]: \")))\n",
    "    \n",
    "    Gender = input(\"Gender (M/F/N): \")\n",
    "    if Gender=='F' or Gender=='f':\n",
    "        I.append(1)\n",
    "        I.append(0)\n",
    "    elif Gender=='M' or Gender=='m':\n",
    "        I.append(0)\n",
    "        I.append(1)\n",
    "    else:\n",
    "        I.append(0)\n",
    "        I.append(0)\n",
    "        \n",
    "    POA = input(\"Presence of severe allergies (Y/N/NA/-): \")\n",
    "    if POA=='Y' or POA=='y':\n",
    "        I.append(0)\n",
    "        I.append(0)\n",
    "        I.append(1)\n",
    "    elif POA=='N' or POA=='n':\n",
    "        I.append(1)\n",
    "        I.append(0)\n",
    "        I.append(0)\n",
    "    elif POA=='NA' or POA=='na':\n",
    "        I.append(0)\n",
    "        I.append(1)\n",
    "        I.append(0)\n",
    "    else:\n",
    "        I.append(0)\n",
    "        I.append(0)\n",
    "        I.append(0)\n",
    "    \n",
    "    PMD = input(\"Premature delivery (Y/N/NA/-): \")\n",
    "    if PMD=='N' or PMD=='n':\n",
    "        I.append(1)\n",
    "        I.append(0)\n",
    "        I.append(0)\n",
    "    elif PMD=='NA' or PMD=='na':\n",
    "        I.append(0)\n",
    "        I.append(1)\n",
    "        I.append(0)\n",
    "    elif PMD=='Y' or PMD=='y':\n",
    "        I.append(0)\n",
    "        I.append(0)\n",
    "        I.append(1)\n",
    "    else:\n",
    "        I.append(0)\n",
    "        I.append(0)\n",
    "        I.append(0)\n",
    "        \n",
    "    CMP = input(\"CMP Results (Normal(n)/Abnormal(a)/Slightly Abnormal(sa)/-): \")\n",
    "    if CMP=='N' or CMP=='n':\n",
    "        I.append(1)\n",
    "        I.append(0)\n",
    "        I.append(0)\n",
    "    elif CMP=='A' or CMP=='a':\n",
    "        I.append(0)\n",
    "        I.append(1)\n",
    "        I.append(0)\n",
    "    elif CMP=='sa' or CMP=='SA':\n",
    "        I.append(0)\n",
    "        I.append(0)\n",
    "        I.append(1)\n",
    "    else:\n",
    "        I.append(0)\n",
    "        I.append(0)\n",
    "        I.append(0)\n",
    "    return I"
   ]
  },
  {
   "cell_type": "code",
   "execution_count": 25,
   "id": "95e8c8a0",
   "metadata": {},
   "outputs": [
    {
     "name": "stdout",
     "output_type": "stream",
     "text": [
      "Enter age: 7\n",
      "Gene A present ? Yes[1]/No[0]: 1\n",
      "Gene B present ? Yes[1]/No[0]: 0\n",
      "Gene C present ? Yes[1]/No[0]: 0\n",
      "Gene D present ? Yes[1]/No[0]: 0\n",
      "Per mcL quantity of blood cells: 4.978\n",
      "Breathing Rate ? Normal[0]/Tachypnea[1]: 0\n",
      "Pulse Rate ? Normal[0]/Tachycardia[1]: 1\n",
      "Diagnostic Testing ? Positive[1]/Negative[0]: 0\n",
      "Carrier Testing ? Positive[1]/Negative[0]: 0\n",
      "Enzyme Test ? Positive[1]/Negative[0]: 0\n",
      "Insulin Test ? Positive[1]/Negative[0]: 1\n",
      "Thyroid Test ? Positive[1]/Negative[0]: 0\n",
      "Gastrin Defect ? Yes[1]/No[0]: 1\n",
      "Neural Anomaly ? Yes[1]/No[0]: 0\n",
      "Assistance needed in fertility ? Yes[1]/No[0]: 1\n",
      "Previous maternal pregnancy record ? Yes[1]/No[0]: 0\n",
      "Maternal Abortion count: 2\n",
      "Per mcL quantity of white blood cells: 11.52\n",
      "High triglyceride level ? Yes[1]/No[0]: 1\n",
      "Reduced HDL ? Yes[1]/No[0]: 0\n",
      "High BP ? Yes[1]/No[0]: 0\n",
      "Gender (M/F/N): f\n",
      "Presence of severe allergies (Y/N/NA/-): n\n",
      "Premature delivery (Y/N/NA/-): na\n",
      "CMP Results (Normal(n)/Abnormal(a)/Slightly Abnormal(sa)/-): n\n"
     ]
    }
   ],
   "source": [
    "L = take_input()"
   ]
  },
  {
   "cell_type": "code",
   "execution_count": 26,
   "id": "d953211f",
   "metadata": {},
   "outputs": [
    {
     "name": "stdout",
     "output_type": "stream",
     "text": [
      "Type A\n"
     ]
    }
   ],
   "source": [
    "print(loaded_model.predict([L])[0])"
   ]
  },
  {
   "cell_type": "code",
   "execution_count": 38,
   "id": "da3d5ab9",
   "metadata": {},
   "outputs": [
    {
     "name": "stdout",
     "output_type": "stream",
     "text": [
      "\t\t\t\tMetabolic Syndrome Pridictor\n",
      "\n",
      "Enter age: 1\n",
      "Gene A present ? Yes[1]/No[0]: 1\n",
      "Gene B present ? Yes[1]/No[0]: 1\n",
      "Gene C present ? Yes[1]/No[0]: 1\n",
      "Gene D present ? Yes[1]/No[0]: 1\n",
      "Per mcL quantity of blood cells: 1\n",
      "Breathing Rate ? Normal[0]/Tachypnea[1]: 1\n",
      "Pulse Rate ? Normal[0]/Tachycardia[1]: 1\n",
      "Diagnostic Testing ? Positive[1]/Negative[0]: 1\n",
      "Carrier Testing ? Positive[1]/Negative[0]: 1\n",
      "Enzyme Test ? Positive[1]/Negative[0]: 1\n",
      "Insulin Test ? Positive[1]/Negative[0]: 1\n",
      "Thyroid Test ? Positive[1]/Negative[0]: 1\n",
      "Gastrin Defect ? Yes[1]/No[0]: 1\n",
      "Neural Anomaly ? Yes[1]/No[0]: 1\n",
      "Assistance needed in fertility ? Yes[1]/No[0]: 1\n",
      "Previous maternal pregnancy record ? Yes[1]/No[0]: 1\n",
      "Maternal Abortion count: 1\n",
      "Per mcL quantity of white blood cells: 1\n",
      "High triglyceride level ? Yes[1]/No[0]: 1\n",
      "Reduced HDL ? Yes[1]/No[0]: 1\n",
      "High BP ? Yes[1]/No[0]: 1\n",
      "Gender (M/F/N): 1\n",
      "Presence of severe allergies (Y/N/NA/-): 1\n",
      "Premature delivery (Y/N/NA/-): 1\n",
      "CMP Results (Normal(n)/Abnormal(a)/Slightly Abnormal(sa)/-): 1\n",
      "\n",
      "\t\t\t\tDiagnosis:  Type B\n",
      "Continue? [1]: 2\n",
      "\t\t\t\tThank you !! cya !!\n"
     ]
    }
   ],
   "source": [
    "from IPython.display import clear_output\n",
    "while(True):\n",
    "    print(\"\\t\\t\\t\\tMetabolic Syndrome Pridictor\\n\")\n",
    "    L = take_input()\n",
    "    print(\"\\n\\t\\t\\t\\tDiagnosis: \",loaded_model.predict([L])[0])\n",
    "    if input(\"Continue? [1]: \")!='1':\n",
    "        print(\"\\t\\t\\t\\tThank you !! cya !!\")\n",
    "        break\n",
    "    clear_output()"
   ]
  },
  {
   "cell_type": "code",
   "execution_count": null,
   "id": "335cf8f7",
   "metadata": {},
   "outputs": [],
   "source": []
  }
 ],
 "metadata": {
  "kernelspec": {
   "display_name": "Python 3 (ipykernel)",
   "language": "python",
   "name": "python3"
  },
  "language_info": {
   "codemirror_mode": {
    "name": "ipython",
    "version": 3
   },
   "file_extension": ".py",
   "mimetype": "text/x-python",
   "name": "python",
   "nbconvert_exporter": "python",
   "pygments_lexer": "ipython3",
   "version": "3.8.10"
  }
 },
 "nbformat": 4,
 "nbformat_minor": 5
}
